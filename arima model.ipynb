{
 "cells": [
  {
   "cell_type": "code",
   "execution_count": null,
   "id": "5b32a2f0",
   "metadata": {},
   "outputs": [],
   "source": [
    "max_df = pd.DataFrame()\n",
    "max_df['datetime'] = pd.to_datetime(df['timestamp'])\n",
    "max_df['date']=max_df['datetime'].dt.date.astype('str')\n",
    "max_df['max']= df[df.columns[1:151]].max(axis=1).round(2)"
   ]
  },
  {
   "cell_type": "code",
   "execution_count": null,
   "id": "6fd261cc",
   "metadata": {},
   "outputs": [],
   "source": [
    "from statsmodels.tsa.stattools import adfuller\n",
    "\n",
    "def ad_test(max_df):\n",
    "    dftest = adfuller(max_df, autolag = 'AIC')\n",
    "    print(\"1. ADF:\", dftest[0])\n",
    "    print(\"2. p-value:\", dftest[1])\n",
    "    print(\"3. Number of lags:\", dftest[2])\n",
    "    print(\"4. Number of observations used for ADF regression and critical value calculation:\", dftest[3])\n",
    "    print(\"5. Critical Value:\")\n",
    "    for key, val in dftest[4].items():\n",
    "        print(\"\\t\", key, \": \", val)\n",
    "        \n",
    "ad_test(max_df['max'])"
   ]
  },
  {
   "cell_type": "code",
   "execution_count": null,
   "id": "7c829277",
   "metadata": {},
   "outputs": [],
   "source": [
    "from pmdarima import auto_arima\n",
    "import warnings\n",
    "warnings.filterwarnings(\"ignore\")"
   ]
  },
  {
   "cell_type": "code",
   "execution_count": null,
   "id": "63062431",
   "metadata": {},
   "outputs": [],
   "source": [
    "stepwise_fit = auto_arima(max_df['max'], trace = True, suppress_warning = True)\n",
    "stepwise_fit.summary()"
   ]
  },
  {
   "cell_type": "code",
   "execution_count": null,
   "id": "93d50f70",
   "metadata": {},
   "outputs": [],
   "source": [
    "from statsmodels.tsa.arima_model import ARIMA\n"
   ]
  },
  {
   "cell_type": "code",
   "execution_count": null,
   "id": "542daf12",
   "metadata": {},
   "outputs": [],
   "source": [
    "\n",
    "import statsmodels.api as sm\n",
    "from pylab import rcParams\n",
    "rcParams['figure.figsize'] = 18, 8\n",
    "\n",
    "\n",
    "decomposition = sm.tsa.seasonal_decompose(max_df1, model='additive')\n",
    "fig = decomposition.plot()\n",
    "plt.show()"
   ]
  },
  {
   "cell_type": "code",
   "execution_count": null,
   "id": "8a8abace",
   "metadata": {},
   "outputs": [],
   "source": [
    "train = max_df.iloc[:-7103]\n",
    "test = max_df.iloc[-7103:]\n",
    "print(train.shape, test.shape)\n"
   ]
  },
  {
   "cell_type": "code",
   "execution_count": null,
   "id": "31394336",
   "metadata": {},
   "outputs": [],
   "source": [
    "model = ARIMA(train['max'], order=(4,1,0))\n",
    "model = model.fit()\n",
    "model.summary()"
   ]
  },
  {
   "cell_type": "code",
   "execution_count": null,
   "id": "2c22850d",
   "metadata": {},
   "outputs": [],
   "source": [
    "start=len(train)\n",
    "end=len(train)+len(test)-1\n",
    "pred=model.predict(start=start, end=end, type='levels')\n",
    "print(pred)"
   ]
  },
  {
   "cell_type": "code",
   "execution_count": null,
   "id": "46e944a5",
   "metadata": {},
   "outputs": [],
   "source": [
    "pred.plot(legend=True)\n",
    "test['max'].plot(legend=True)"
   ]
  },
  {
   "cell_type": "code",
   "execution_count": null,
   "id": "313ca6da",
   "metadata": {},
   "outputs": [],
   "source": [
    "test['max'].mean()\n"
   ]
  },
  {
   "cell_type": "code",
   "execution_count": null,
   "id": "e06fbcfa",
   "metadata": {},
   "outputs": [],
   "source": [
    "from sklearn.metrics import mean_squared_error\n",
    "from math import sqrt\n",
    "rmse = sqrt(mean_squared_error(pred, test['max']))\n",
    "print(rmse)"
   ]
  }
 ],
 "metadata": {
  "kernelspec": {
   "display_name": "Python 3",
   "language": "python",
   "name": "python3"
  },
  "language_info": {
   "codemirror_mode": {
    "name": "ipython",
    "version": 3
   },
   "file_extension": ".py",
   "mimetype": "text/x-python",
   "name": "python",
   "nbconvert_exporter": "python",
   "pygments_lexer": "ipython3",
   "version": "3.8.8"
  }
 },
 "nbformat": 4,
 "nbformat_minor": 5
}
